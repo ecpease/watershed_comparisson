{
 "cells": [
  {
   "cell_type": "code",
   "execution_count": 1,
   "metadata": {},
   "outputs": [],
   "source": [
    "import os\n",
    "import pandas as pd\n",
    "import geopandas as gpd\n",
    "import fiona\n",
    "import glob\n",
    "import glob2\n",
    "import shutil"
   ]
  },
  {
   "cell_type": "markdown",
   "metadata": {},
   "source": [
    "# READ IN WATERSHEDS (USGS AND ESRI)"
   ]
  },
  {
   "cell_type": "code",
   "execution_count": 2,
   "metadata": {},
   "outputs": [],
   "source": [
    "ESRI_dict = {}\n",
    "USGS_dict = {}\n",
    "\n",
    "sites = ['08098450', '08140860', '08180990', '08128030', '08167200', '08168770', \n",
    "         '08061548', '08098450', '08099382', '08178980', '08181725', '08183978']\n",
    "\n",
    "for site in sites:\n",
    "    ESRI_dict[site] = gpd.read_file(os.path.join('..', 'watershed', \"ESRI_ws\", f'ESRI_{site}.shp'))\n",
    "    USGS_dict[site] = gpd.read_file(os.path.join('..', 'watershed', \"USGS_ws\", f'ws_{site}.shp'))\n",
    "\n",
    "crs = ESRI_dict[sites[0]].crs"
   ]
  },
  {
   "cell_type": "code",
   "execution_count": 7,
   "metadata": {},
   "outputs": [],
   "source": [
    "geometry = []\n",
    "Area_sq_mi = []\n",
    "\n",
    "for site in sites:\n",
    "    esri_df = ESRI_dict[site]\n",
    "    geometry.append(esri_df.iloc[0][\"geometry\"])\n",
    "    Area_sq_mi.append(esri_df.iloc[0][\"AreaSqKm\"]/2.59)\n",
    "    esri_df.to_file(os.path.join(\"..\", \"output\", f'ESRIarea_{site}.shp'))\n",
    "\n",
    "data = {\"Site_ID\": sites, \"Area_sq_mi\": Area_sq_mi, \"geometry\": geometry}\n",
    "ESRI_gdf = gpd.GeoDataFrame(data, geometry=\"geometry\") \n",
    "ESRI_gdf.crs = crs\n",
    "# ESRI_gdf.to_file(os.path.join(\"..\", \"output\", \"ESRI_all.shp\"))\n",
    "\n",
    "\n",
    "geometry = []\n",
    "Area_sq_mi = []\n",
    "for site in sites:\n",
    "    usgs_df = USGS_dict[site]\n",
    "    geometry.append(usgs_df.iloc[0][\"geometry\"])\n",
    "    Area_sq_mi.append(usgs_df.iloc[0][\"Area_sq_mi\"])\n",
    "    usgs_df.to_file(os.path.join(\"..\", \"output\", f'USGSarea_{site}.shp'))\n",
    " \n",
    "data = {\"Site_ID\": sites, \"Area_sq_mi\": Area_sq_mi, \"geometry\": geometry}\n",
    "USGS_gdf = gpd.GeoDataFrame(data, geometry=\"geometry\") \n",
    "USGS_gdf.crs = crs\n",
    "USGS_gdf.to_file(os.path.join(\"..\", \"output\", \"USGS_all.shp\"))"
   ]
  },
  {
   "cell_type": "code",
   "execution_count": null,
   "metadata": {},
   "outputs": [],
   "source": [
    "Esri_workspace = os.path.join('..', 'output')\n",
    "shapefiles = glob.glob(os.path.join(\"..\", \"output\", \"ESRIarea*.shp\"))\n",
    "\n",
    "ESRI_gdf = pd.concat(ESRI_dfs)\n",
    "USGS_gdf = pd.concat(USGS_dfs)\n",
    "\n",
    "gdftest.to_file(os.path.join(Esri_workspace, 'ESRI_all.shp'))\n",
    "gdftest.to_file(os.path.join(Esri_workspace, 'USGS_all.shp'))"
   ]
  },
  {
   "cell_type": "code",
   "execution_count": null,
   "metadata": {},
   "outputs": [],
   "source": []
  },
  {
   "cell_type": "code",
   "execution_count": null,
   "metadata": {},
   "outputs": [],
   "source": []
  },
  {
   "cell_type": "code",
   "execution_count": null,
   "metadata": {},
   "outputs": [],
   "source": [
    "percent_large = percent_difference(current=df_wslarge['Area_sq_mi'].astype(int), previous=ESRI_large[\"Area_sq_mi\"].astype(int))\n",
    "print(\"Percent difference of medium watersheds is \", percent_large)"
   ]
  },
  {
   "cell_type": "code",
   "execution_count": null,
   "metadata": {},
   "outputs": [],
   "source": [
    "percent_med = percent_difference(current=df_wsmed['Area_sq_mi'].astype(int), previous=ESRI_med[\"Area_sq_mi\"].astype(int))\n",
    "print(\"Percent difference of medium watersheds is \", percent_med)"
   ]
  },
  {
   "cell_type": "code",
   "execution_count": null,
   "metadata": {
    "scrolled": true
   },
   "outputs": [],
   "source": [
    "percent_small = percent_difference(current=df_wssmall['Area_sq_mi'], previous=ESRI_small[\"Area_sq_mi\"])\n",
    "print(\"Percent difference of medium watersheds is \", percent_small)"
   ]
  },
  {
   "cell_type": "code",
   "execution_count": null,
   "metadata": {},
   "outputs": [],
   "source": [
    "df_main = pd.concat([df_wslarge, ESRI_large, df_wsmed, ESRI_med, df_wssmall, ESRI_small], ignore_index=True, sort=False)\n",
    "gdf_main = df_main[['geometry', 'Site_Name', 'Site_ID', 'Area_sq_mi', 'Descriptio', 'DataResolu']]\n",
    "df_main = df_main[['Site_Name', 'Site_ID', 'Area_sq_mi', 'Descriptio', 'DataResolu']]\n",
    "\n",
    "gdf_main.to_csv(os.path.join('..', 'output', 'Watersheds.shp'))\n",
    "df_main.to_csv(os.path.join('..', 'output', 'WatershedDF.csv'))"
   ]
  },
  {
   "cell_type": "code",
   "execution_count": null,
   "metadata": {},
   "outputs": [],
   "source": [
    "df_main['PercDiff'] = df_main['PercDiff'].append([44.904617, 44.904617, 0.445434, 0.445434, 1.663661, 1.663661])"
   ]
  },
  {
   "cell_type": "code",
   "execution_count": null,
   "metadata": {},
   "outputs": [],
   "source": []
  }
 ],
 "metadata": {
  "kernelspec": {
   "display_name": "Python 3",
   "language": "python",
   "name": "python3"
  },
  "language_info": {
   "codemirror_mode": {
    "name": "ipython",
    "version": 3
   },
   "file_extension": ".py",
   "mimetype": "text/x-python",
   "name": "python",
   "nbconvert_exporter": "python",
   "pygments_lexer": "ipython3",
   "version": "3.6.7"
  }
 },
 "nbformat": 4,
 "nbformat_minor": 2
}
