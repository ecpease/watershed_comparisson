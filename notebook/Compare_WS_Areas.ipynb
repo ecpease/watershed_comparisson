{
 "cells": [
  {
   "cell_type": "code",
   "execution_count": 1,
   "metadata": {},
   "outputs": [],
   "source": [
    "import os\n",
    "import pandas as pd\n",
    "import geopandas as gpd\n",
    "import fiona"
   ]
  },
  {
   "cell_type": "markdown",
   "metadata": {},
   "source": [
    "# READ IN WATERSHEDS (USGS AND ESRI)"
   ]
  },
  {
   "cell_type": "code",
   "execution_count": 2,
   "metadata": {},
   "outputs": [
    {
     "data": {
      "text/html": [
       "<div>\n",
       "<style scoped>\n",
       "    .dataframe tbody tr th:only-of-type {\n",
       "        vertical-align: middle;\n",
       "    }\n",
       "\n",
       "    .dataframe tbody tr th {\n",
       "        vertical-align: top;\n",
       "    }\n",
       "\n",
       "    .dataframe thead th {\n",
       "        text-align: right;\n",
       "    }\n",
       "</style>\n",
       "<table border=\"1\" class=\"dataframe\">\n",
       "  <thead>\n",
       "    <tr style=\"text-align: right;\">\n",
       "      <th></th>\n",
       "      <th>Id</th>\n",
       "      <th>gridcode</th>\n",
       "      <th>Shape_Leng</th>\n",
       "      <th>Shape_Area</th>\n",
       "      <th>Site_Name</th>\n",
       "      <th>Site_ID</th>\n",
       "      <th>Area_sq_mi</th>\n",
       "      <th>geometry</th>\n",
       "    </tr>\n",
       "  </thead>\n",
       "  <tbody>\n",
       "    <tr>\n",
       "      <th>0</th>\n",
       "      <td>36</td>\n",
       "      <td>1</td>\n",
       "      <td>2.464906e+06</td>\n",
       "      <td>4.432734e+10</td>\n",
       "      <td>Brazos Rv at FM 485 nr Hearne, TX</td>\n",
       "      <td>08098450</td>\n",
       "      <td>17114.882815</td>\n",
       "      <td>POLYGON ((1301878.36866742 1055816.152899596, ...</td>\n",
       "    </tr>\n",
       "  </tbody>\n",
       "</table>\n",
       "</div>"
      ],
      "text/plain": [
       "   Id  gridcode    Shape_Leng    Shape_Area  \\\n",
       "0  36         1  2.464906e+06  4.432734e+10   \n",
       "\n",
       "                           Site_Name   Site_ID    Area_sq_mi  \\\n",
       "0  Brazos Rv at FM 485 nr Hearne, TX  08098450  17114.882815   \n",
       "\n",
       "                                            geometry  \n",
       "0  POLYGON ((1301878.36866742 1055816.152899596, ...  "
      ]
     },
     "execution_count": 2,
     "metadata": {},
     "output_type": "execute_result"
    }
   ],
   "source": [
    "df_wslarge = gpd.read_file(os.path.join('..', 'watershed', 'ws_08098450.shp'))\n",
    "df_wslarge"
   ]
  },
  {
   "cell_type": "code",
   "execution_count": 3,
   "metadata": {},
   "outputs": [
    {
     "data": {
      "text/html": [
       "<div>\n",
       "<style scoped>\n",
       "    .dataframe tbody tr th:only-of-type {\n",
       "        vertical-align: middle;\n",
       "    }\n",
       "\n",
       "    .dataframe tbody tr th {\n",
       "        vertical-align: top;\n",
       "    }\n",
       "\n",
       "    .dataframe thead th {\n",
       "        text-align: right;\n",
       "    }\n",
       "</style>\n",
       "<table border=\"1\" class=\"dataframe\">\n",
       "  <thead>\n",
       "    <tr style=\"text-align: right;\">\n",
       "      <th></th>\n",
       "      <th>PourPtID</th>\n",
       "      <th>Descriptio</th>\n",
       "      <th>DataResolu</th>\n",
       "      <th>AreaSqKm</th>\n",
       "      <th>Shape_Leng</th>\n",
       "      <th>Shape_Area</th>\n",
       "      <th>Area_sq_mi</th>\n",
       "      <th>geometry</th>\n",
       "    </tr>\n",
       "  </thead>\n",
       "  <tbody>\n",
       "    <tr>\n",
       "      <th>0</th>\n",
       "      <td>1</td>\n",
       "      <td>NED 30m processed by Esri</td>\n",
       "      <td>30.0</td>\n",
       "      <td>69994.105196</td>\n",
       "      <td>3.709786e+06</td>\n",
       "      <td>6.999411e+10</td>\n",
       "      <td>27024.875106</td>\n",
       "      <td>POLYGON ((-398535 1175175, -398535 1174875, -3...</td>\n",
       "    </tr>\n",
       "  </tbody>\n",
       "</table>\n",
       "</div>"
      ],
      "text/plain": [
       "   PourPtID                 Descriptio DataResolu      AreaSqKm    Shape_Leng  \\\n",
       "0         1  NED 30m processed by Esri       30.0  69994.105196  3.709786e+06   \n",
       "\n",
       "     Shape_Area    Area_sq_mi  \\\n",
       "0  6.999411e+10  27024.875106   \n",
       "\n",
       "                                            geometry  \n",
       "0  POLYGON ((-398535 1175175, -398535 1174875, -3...  "
      ]
     },
     "execution_count": 3,
     "metadata": {},
     "output_type": "execute_result"
    }
   ],
   "source": [
    "df_ESRI_large = gpd.read_file(os.path.join('..', 'watershed', 'ESRI_8450.shp'))\n",
    "df_ESRI_large"
   ]
  },
  {
   "cell_type": "code",
   "execution_count": 4,
   "metadata": {},
   "outputs": [
    {
     "data": {
      "text/html": [
       "<div>\n",
       "<style scoped>\n",
       "    .dataframe tbody tr th:only-of-type {\n",
       "        vertical-align: middle;\n",
       "    }\n",
       "\n",
       "    .dataframe tbody tr th {\n",
       "        vertical-align: top;\n",
       "    }\n",
       "\n",
       "    .dataframe thead th {\n",
       "        text-align: right;\n",
       "    }\n",
       "</style>\n",
       "<table border=\"1\" class=\"dataframe\">\n",
       "  <thead>\n",
       "    <tr style=\"text-align: right;\">\n",
       "      <th></th>\n",
       "      <th>Id</th>\n",
       "      <th>gridcode</th>\n",
       "      <th>Shape_Leng</th>\n",
       "      <th>Shape_Area</th>\n",
       "      <th>Area_sq_mi</th>\n",
       "      <th>Site_Name</th>\n",
       "      <th>Site_ID</th>\n",
       "      <th>geometry</th>\n",
       "    </tr>\n",
       "  </thead>\n",
       "  <tbody>\n",
       "    <tr>\n",
       "      <th>0</th>\n",
       "      <td>3</td>\n",
       "      <td>1</td>\n",
       "      <td>290261.878752</td>\n",
       "      <td>1.165650e+09</td>\n",
       "      <td>450.059818</td>\n",
       "      <td>Jim Ned Ck at CR 140 nr Coleman, TX</td>\n",
       "      <td>08140860</td>\n",
       "      <td>POLYGON ((1045223.799256355 1085192.489848529,...</td>\n",
       "    </tr>\n",
       "  </tbody>\n",
       "</table>\n",
       "</div>"
      ],
      "text/plain": [
       "   Id  gridcode     Shape_Leng    Shape_Area  Area_sq_mi  \\\n",
       "0   3         1  290261.878752  1.165650e+09  450.059818   \n",
       "\n",
       "                             Site_Name   Site_ID  \\\n",
       "0  Jim Ned Ck at CR 140 nr Coleman, TX  08140860   \n",
       "\n",
       "                                            geometry  \n",
       "0  POLYGON ((1045223.799256355 1085192.489848529,...  "
      ]
     },
     "execution_count": 4,
     "metadata": {},
     "output_type": "execute_result"
    }
   ],
   "source": [
    "df_wsmed = gpd.read_file(os.path.join('..', 'watershed', 'ws_08140860.shp'))\n",
    "df_wsmed"
   ]
  },
  {
   "cell_type": "code",
   "execution_count": 5,
   "metadata": {},
   "outputs": [
    {
     "data": {
      "text/html": [
       "<div>\n",
       "<style scoped>\n",
       "    .dataframe tbody tr th:only-of-type {\n",
       "        vertical-align: middle;\n",
       "    }\n",
       "\n",
       "    .dataframe tbody tr th {\n",
       "        vertical-align: top;\n",
       "    }\n",
       "\n",
       "    .dataframe thead th {\n",
       "        text-align: right;\n",
       "    }\n",
       "</style>\n",
       "<table border=\"1\" class=\"dataframe\">\n",
       "  <thead>\n",
       "    <tr style=\"text-align: right;\">\n",
       "      <th></th>\n",
       "      <th>PourPtID</th>\n",
       "      <th>Descriptio</th>\n",
       "      <th>DataResolu</th>\n",
       "      <th>AreaSqKm</th>\n",
       "      <th>Shape_Leng</th>\n",
       "      <th>Shape_Area</th>\n",
       "      <th>geometry</th>\n",
       "    </tr>\n",
       "  </thead>\n",
       "  <tbody>\n",
       "    <tr>\n",
       "      <th>0</th>\n",
       "      <td>1</td>\n",
       "      <td>NED 30m processed by Esri</td>\n",
       "      <td>30.0</td>\n",
       "      <td>1162.848598</td>\n",
       "      <td>230106.88298</td>\n",
       "      <td>1.162849e+09</td>\n",
       "      <td>POLYGON ((-348075 1028265, -347955 1028145, -3...</td>\n",
       "    </tr>\n",
       "  </tbody>\n",
       "</table>\n",
       "</div>"
      ],
      "text/plain": [
       "   PourPtID                 Descriptio DataResolu     AreaSqKm    Shape_Leng  \\\n",
       "0         1  NED 30m processed by Esri       30.0  1162.848598  230106.88298   \n",
       "\n",
       "     Shape_Area                                           geometry  \n",
       "0  1.162849e+09  POLYGON ((-348075 1028265, -347955 1028145, -3...  "
      ]
     },
     "execution_count": 5,
     "metadata": {},
     "output_type": "execute_result"
    }
   ],
   "source": [
    "df_ESRI_med = gpd.read_file(os.path.join('..', 'watershed', 'ESRI_0860.shp'))\n",
    "df_ESRI_med"
   ]
  },
  {
   "cell_type": "code",
   "execution_count": 6,
   "metadata": {},
   "outputs": [
    {
     "data": {
      "text/html": [
       "<div>\n",
       "<style scoped>\n",
       "    .dataframe tbody tr th:only-of-type {\n",
       "        vertical-align: middle;\n",
       "    }\n",
       "\n",
       "    .dataframe tbody tr th {\n",
       "        vertical-align: top;\n",
       "    }\n",
       "\n",
       "    .dataframe thead th {\n",
       "        text-align: right;\n",
       "    }\n",
       "</style>\n",
       "<table border=\"1\" class=\"dataframe\">\n",
       "  <thead>\n",
       "    <tr style=\"text-align: right;\">\n",
       "      <th></th>\n",
       "      <th>Id</th>\n",
       "      <th>gridcode</th>\n",
       "      <th>Shape_Leng</th>\n",
       "      <th>Shape_Area</th>\n",
       "      <th>Area_sq_mi</th>\n",
       "      <th>geometry</th>\n",
       "    </tr>\n",
       "  </thead>\n",
       "  <tbody>\n",
       "    <tr>\n",
       "      <th>0</th>\n",
       "      <td>1</td>\n",
       "      <td>1</td>\n",
       "      <td>79869.244456</td>\n",
       "      <td>9.965820e+07</td>\n",
       "      <td>38.478247</td>\n",
       "      <td>POLYGON ((1135427.911627054 826037.3274621321,...</td>\n",
       "    </tr>\n",
       "  </tbody>\n",
       "</table>\n",
       "</div>"
      ],
      "text/plain": [
       "   Id  gridcode    Shape_Leng    Shape_Area  Area_sq_mi  \\\n",
       "0   1         1  79869.244456  9.965820e+07   38.478247   \n",
       "\n",
       "                                            geometry  \n",
       "0  POLYGON ((1135427.911627054 826037.3274621321,...  "
      ]
     },
     "execution_count": 6,
     "metadata": {},
     "output_type": "execute_result"
    }
   ],
   "source": [
    "df_wssmall = gpd.read_file(os.path.join('..', 'watershed', 'ws_08180990.shp'))\n",
    "df_wssmall"
   ]
  },
  {
   "cell_type": "code",
   "execution_count": 7,
   "metadata": {
    "scrolled": true
   },
   "outputs": [
    {
     "data": {
      "text/html": [
       "<div>\n",
       "<style scoped>\n",
       "    .dataframe tbody tr th:only-of-type {\n",
       "        vertical-align: middle;\n",
       "    }\n",
       "\n",
       "    .dataframe tbody tr th {\n",
       "        vertical-align: top;\n",
       "    }\n",
       "\n",
       "    .dataframe thead th {\n",
       "        text-align: right;\n",
       "    }\n",
       "</style>\n",
       "<table border=\"1\" class=\"dataframe\">\n",
       "  <thead>\n",
       "    <tr style=\"text-align: right;\">\n",
       "      <th></th>\n",
       "      <th>PourPtID</th>\n",
       "      <th>Descriptio</th>\n",
       "      <th>DataResolu</th>\n",
       "      <th>AreaSqKm</th>\n",
       "      <th>Shape_Leng</th>\n",
       "      <th>Shape_Area</th>\n",
       "      <th>geometry</th>\n",
       "    </tr>\n",
       "  </thead>\n",
       "  <tbody>\n",
       "    <tr>\n",
       "      <th>0</th>\n",
       "      <td>1</td>\n",
       "      <td>NED 30m processed by Esri</td>\n",
       "      <td>30.0</td>\n",
       "      <td>101.330549</td>\n",
       "      <td>62555.273608</td>\n",
       "      <td>101330550.0</td>\n",
       "      <td>POLYGON ((-256485 742425, -256425 742365, -256...</td>\n",
       "    </tr>\n",
       "  </tbody>\n",
       "</table>\n",
       "</div>"
      ],
      "text/plain": [
       "   PourPtID                 Descriptio DataResolu    AreaSqKm    Shape_Leng  \\\n",
       "0         1  NED 30m processed by Esri       30.0  101.330549  62555.273608   \n",
       "\n",
       "    Shape_Area                                           geometry  \n",
       "0  101330550.0  POLYGON ((-256485 742425, -256425 742365, -256...  "
      ]
     },
     "execution_count": 7,
     "metadata": {},
     "output_type": "execute_result"
    }
   ],
   "source": [
    "df_ESRI_small = gpd.read_file(os.path.join('..', 'watershed', 'ESRI_0990.shp'))\n",
    "df_ESRI_small"
   ]
  },
  {
   "cell_type": "code",
   "execution_count": 65,
   "metadata": {},
   "outputs": [
    {
     "name": "stdout",
     "output_type": "stream",
     "text": [
      "   PourPtID                 Descriptio DataResolu      AreaSqKm    Shape_Leng  \\\n",
      "0         1  NED 30m processed by Esri       30.0  69994.105196  3.709786e+06   \n",
      "\n",
      "     Shape_Area    Area_sq_mi  \\\n",
      "0  6.999411e+10  27024.751041   \n",
      "\n",
      "                                            geometry Site_ID  \n",
      "0  POLYGON ((-398535 1175175, -398535 1174875, -3...    8450  \n",
      "   PourPtID                 Descriptio DataResolu     AreaSqKm    Shape_Leng  \\\n",
      "0         1  NED 30m processed by Esri       30.0  1162.848598  230106.88298   \n",
      "\n",
      "     Shape_Area                                           geometry  \\\n",
      "0  1.162849e+09  POLYGON ((-348075 1028265, -347955 1028145, -3...   \n",
      "\n",
      "   Area_sq_mi Site_ID  \n",
      "0  448.976293    0860  \n",
      "   PourPtID                 Descriptio DataResolu    AreaSqKm    Shape_Leng  \\\n",
      "0         1  NED 30m processed by Esri       30.0  101.330549  62555.273608   \n",
      "\n",
      "    Shape_Area                                           geometry  Area_sq_mi  \\\n",
      "0  101330550.0  POLYGON ((-256485 742425, -256425 742365, -256...   39.123764   \n",
      "\n",
      "  Site_ID  \n",
      "0    0990  \n"
     ]
    }
   ],
   "source": [
    "import glob\n",
    "import glob2\n",
    "import shutil\n",
    "\n",
    "sites = ['8450', '0860', '0990']\n",
    "# sites = ['08180990'] # small\n",
    "for site in sites:\n",
    "    gdf = gpd.read_file(os.path.join('..', 'watershed', f\"ESRI_{site}.shp\"))\n",
    "    gdf['Area_sq_mi'] = gdf['AreaSqKm'] / 2.59 # convert sq km to sq miles\n",
    "    gdf['Site_ID'] = site\n",
    "    print(gdf.head())\n",
    "    gdf.to_file(os.path.join('..', 'watershed', f'ESRIarea_{site}.shp'))\n"
   ]
  },
  {
   "cell_type": "code",
   "execution_count": 78,
   "metadata": {},
   "outputs": [
    {
     "data": {
      "text/html": [
       "<div>\n",
       "<style scoped>\n",
       "    .dataframe tbody tr th:only-of-type {\n",
       "        vertical-align: middle;\n",
       "    }\n",
       "\n",
       "    .dataframe tbody tr th {\n",
       "        vertical-align: top;\n",
       "    }\n",
       "\n",
       "    .dataframe thead th {\n",
       "        text-align: right;\n",
       "    }\n",
       "</style>\n",
       "<table border=\"1\" class=\"dataframe\">\n",
       "  <thead>\n",
       "    <tr style=\"text-align: right;\">\n",
       "      <th></th>\n",
       "      <th>PourPtID</th>\n",
       "      <th>Descriptio</th>\n",
       "      <th>DataResolu</th>\n",
       "      <th>AreaSqKm</th>\n",
       "      <th>Shape_Leng</th>\n",
       "      <th>Shape_Area</th>\n",
       "      <th>Area_sq_mi</th>\n",
       "      <th>Site_ID</th>\n",
       "      <th>geometry</th>\n",
       "    </tr>\n",
       "  </thead>\n",
       "  <tbody>\n",
       "    <tr>\n",
       "      <th>0</th>\n",
       "      <td>1</td>\n",
       "      <td>NED 30m processed by Esri</td>\n",
       "      <td>30.0</td>\n",
       "      <td>101.330549</td>\n",
       "      <td>62555.273608</td>\n",
       "      <td>101330550.0</td>\n",
       "      <td>39.123764</td>\n",
       "      <td>0990</td>\n",
       "      <td>POLYGON ((-256485 742425, -256425 742365, -256...</td>\n",
       "    </tr>\n",
       "  </tbody>\n",
       "</table>\n",
       "</div>"
      ],
      "text/plain": [
       "   PourPtID                 Descriptio DataResolu    AreaSqKm    Shape_Leng  \\\n",
       "0         1  NED 30m processed by Esri       30.0  101.330549  62555.273608   \n",
       "\n",
       "    Shape_Area  Area_sq_mi Site_ID  \\\n",
       "0  101330550.0   39.123764    0990   \n",
       "\n",
       "                                            geometry  \n",
       "0  POLYGON ((-256485 742425, -256425 742365, -256...  "
      ]
     },
     "execution_count": 78,
     "metadata": {},
     "output_type": "execute_result"
    }
   ],
   "source": [
    "ESRI_large = gpd.read_file(os.path.join('..', 'watershed', 'ESRIarea_8450.shp'))\n",
    "ESRI_med   = gpd.read_file(os.path.join('..', 'watershed', 'ESRIarea_0860.shp'))\n",
    "ESRI_small = gpd.read_file(os.path.join('..', 'watershed', 'ESRIarea_0990.shp'))\n",
    "ESRI_small"
   ]
  },
  {
   "cell_type": "code",
   "execution_count": 73,
   "metadata": {},
   "outputs": [],
   "source": [
    "ESRI_large[\"Site_ID\"] = '08098450'\n",
    "ESRI_med[\"Site_ID\"]   = '08140860'\n",
    "ESRI_small[\"Site_ID\"] = '08180990'"
   ]
  },
  {
   "cell_type": "code",
   "execution_count": 74,
   "metadata": {},
   "outputs": [],
   "source": [
    "def percent_difference(current, previous):\n",
    "    absval = abs(current - previous)\n",
    "    avg = (current + previous) / 2\n",
    "    try: \n",
    "        return (absval / avg) * 100.0\n",
    "    except ZeroDivisionError:\n",
    "        return 0"
   ]
  },
  {
   "cell_type": "code",
   "execution_count": 75,
   "metadata": {},
   "outputs": [
    {
     "name": "stdout",
     "output_type": "stream",
     "text": [
      "Percent difference of medium watersheds is  0    44.904617\n",
      "Name: Area_sq_mi, dtype: float64\n"
     ]
    }
   ],
   "source": [
    "percent_large = percent_difference(current=df_wslarge['Area_sq_mi'].astype(int), previous=ESRI_large[\"Area_sq_mi\"].astype(int))\n",
    "print(\"Percent difference of medium watersheds is \", percent_large)"
   ]
  },
  {
   "cell_type": "code",
   "execution_count": 76,
   "metadata": {},
   "outputs": [
    {
     "name": "stdout",
     "output_type": "stream",
     "text": [
      "Percent difference of medium watersheds is  0    0.445434\n",
      "Name: Area_sq_mi, dtype: float64\n"
     ]
    }
   ],
   "source": [
    "percent_med = percent_difference(current=df_wsmed['Area_sq_mi'].astype(int), previous=ESRI_med[\"Area_sq_mi\"].astype(int))\n",
    "print(\"Percent difference of medium watersheds is \", percent_med)"
   ]
  },
  {
   "cell_type": "code",
   "execution_count": 77,
   "metadata": {
    "scrolled": true
   },
   "outputs": [
    {
     "name": "stdout",
     "output_type": "stream",
     "text": [
      "Percent difference of medium watersheds is  0    1.663661\n",
      "Name: Area_sq_mi, dtype: float64\n"
     ]
    }
   ],
   "source": [
    "percent_small = percent_difference(current=df_wssmall['Area_sq_mi'], previous=ESRI_small[\"Area_sq_mi\"])\n",
    "print(\"Percent difference of medium watersheds is \", percent_small)"
   ]
  },
  {
   "cell_type": "code",
   "execution_count": 124,
   "metadata": {},
   "outputs": [],
   "source": [
    "df_main = pd.concat([df_wslarge, ESRI_large, df_wsmed, ESRI_med, df_wssmall, ESRI_small], ignore_index=True, sort=False)\n",
    "gdf_main = df_main[['geometry', 'Site_Name', 'Site_ID', 'Area_sq_mi', 'Descriptio', 'DataResolu']]\n",
    "df_main = df_main[['Site_Name', 'Site_ID', 'Area_sq_mi', 'Descriptio', 'DataResolu']]\n",
    "\n",
    "gdf_main.to_csv(os.path.join('..', 'output', 'Watersheds.shp'))\n",
    "df_main.to_csv(os.path.join('..', 'output', 'WatershedDF.csv'))"
   ]
  },
  {
   "cell_type": "code",
   "execution_count": 112,
   "metadata": {},
   "outputs": [
    {
     "ename": "TypeError",
     "evalue": "tuple indices must be integers or slices, not str",
     "output_type": "error",
     "traceback": [
      "\u001b[0;31m---------------------------------------------------------------------------\u001b[0m",
      "\u001b[0;31mTypeError\u001b[0m                                 Traceback (most recent call last)",
      "\u001b[0;32m<ipython-input-112-d4cb32606db3>\u001b[0m in \u001b[0;36m<module>\u001b[0;34m()\u001b[0m\n\u001b[0;32m----> 1\u001b[0;31m \u001b[0mdf_main\u001b[0m\u001b[0;34m[\u001b[0m\u001b[0;34m'PercDiff'\u001b[0m\u001b[0;34m]\u001b[0m \u001b[0;34m=\u001b[0m \u001b[0mdf_main\u001b[0m\u001b[0;34m[\u001b[0m\u001b[0;34m'PercDiff'\u001b[0m\u001b[0;34m]\u001b[0m\u001b[0;34m.\u001b[0m\u001b[0mappend\u001b[0m\u001b[0;34m(\u001b[0m\u001b[0;34m[\u001b[0m\u001b[0;36m44.904617\u001b[0m\u001b[0;34m,\u001b[0m \u001b[0;36m44.904617\u001b[0m\u001b[0;34m,\u001b[0m \u001b[0;36m0.445434\u001b[0m\u001b[0;34m,\u001b[0m \u001b[0;36m0.445434\u001b[0m\u001b[0;34m,\u001b[0m \u001b[0;36m1.663661\u001b[0m\u001b[0;34m,\u001b[0m \u001b[0;36m1.663661\u001b[0m\u001b[0;34m]\u001b[0m\u001b[0;34m)\u001b[0m\u001b[0;34m\u001b[0m\u001b[0m\n\u001b[0m",
      "\u001b[0;31mTypeError\u001b[0m: tuple indices must be integers or slices, not str"
     ]
    }
   ],
   "source": [
    "df_main['PercDiff'] = df_main['PercDiff'].append([44.904617, 44.904617, 0.445434, 0.445434, 1.663661, 1.663661])"
   ]
  },
  {
   "cell_type": "code",
   "execution_count": null,
   "metadata": {},
   "outputs": [],
   "source": []
  }
 ],
 "metadata": {
  "kernelspec": {
   "display_name": "Python 3",
   "language": "python",
   "name": "python3"
  },
  "language_info": {
   "codemirror_mode": {
    "name": "ipython",
    "version": 3
   },
   "file_extension": ".py",
   "mimetype": "text/x-python",
   "name": "python",
   "nbconvert_exporter": "python",
   "pygments_lexer": "ipython3",
   "version": "3.6.7"
  }
 },
 "nbformat": 4,
 "nbformat_minor": 2
}
