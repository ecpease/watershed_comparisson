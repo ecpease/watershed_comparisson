{
 "cells": [
  {
   "cell_type": "code",
   "execution_count": 12,
   "metadata": {},
   "outputs": [],
   "source": [
    "import os\n",
    "import pandas as pd\n",
    "import geopandas as gpd\n",
    "import fiona\n",
    "import glob\n",
    "import glob2\n",
    "import shutil"
   ]
  },
  {
   "cell_type": "markdown",
   "metadata": {},
   "source": [
    "# READ IN WATERSHEDS (USGS AND ESRI)"
   ]
  },
  {
   "cell_type": "code",
   "execution_count": 2,
   "metadata": {},
   "outputs": [],
   "source": [
    "df_ws1 = gpd.read_file(os.path.join('..', 'watershed', \"USGS_ws\", 'ws_08098450.shp'))\n",
    "df_ws2 = gpd.read_file(os.path.join('..', 'watershed',\"USGS_ws\", 'ws_08140860.shp'))\n",
    "df_ws3 = gpd.read_file(os.path.join('..', 'watershed', \"USGS_ws\",'ws_08180990.shp'))\n",
    "df_ws4 = gpd.read_file(os.path.join('..', 'watershed', \"USGS_ws\", 'ws_08128030.shp'))\n",
    "df_ws5 = gpd.read_file(os.path.join('..', 'watershed', \"USGS_ws\", 'ws_08167200.shp'))\n",
    "df_ws6 = gpd.read_file(os.path.join('..', 'watershed', \"USGS_ws\", 'ws_08168770.shp'))\n",
    "df_ws7 = gpd.read_file(os.path.join('..', 'watershed', \"USGS_ws.gdb\"), driver='FileGDB', layer=\"ws_08061548\")\n",
    "df_ws8 = gpd.read_file(os.path.join('..', 'watershed', \"USGS_ws.gdb\"), driver='FileGDB', layer=\"ws_08098450\")\n",
    "df_ws9 = gpd.read_file(os.path.join('..', 'watershed', \"USGS_ws.gdb\"), driver='FileGDB', layer=\"ws_08099382\")\n",
    "df_ws10 = gpd.read_file(os.path.join('..', 'watershed', \"USGS_ws.gdb\"), driver='FileGDB', layer=\"ws_08178980\")\n",
    "df_ws11 = gpd.read_file(os.path.join('..', 'watershed', \"USGS_ws.gdb\"), driver='FileGDB', layer=\"ws_08181725\")\n",
    "df_ws12 = gpd.read_file(os.path.join('..', 'watershed', \"USGS_ws.gdb\"), driver='FileGDB', layer=\"ws_08183978\")"
   ]
  },
  {
   "cell_type": "code",
   "execution_count": 3,
   "metadata": {},
   "outputs": [],
   "source": [
    "df_ESRI1 = gpd.read_file(os.path.join('..', 'watershed', \"ESRI_ws\", 'ESRI_08098450.shp'))\n",
    "df_ESRI2 = gpd.read_file(os.path.join('..', 'watershed', \"ESRI_ws\",'ESRI_08140860.shp'))\n",
    "df_ESRI3 = gpd.read_file(os.path.join('..', 'watershed', \"ESRI_ws\",'ESRI_08180990.shp'))\n",
    "df_ESRI4 = gpd.read_file(os.path.join('..', 'watershed', \"ESRI_ws\",'ESRI_08128030.shp'))\n",
    "df_ESRI5 = gpd.read_file(os.path.join('..', 'watershed', \"ESRI_ws\",'ESRI_08167200.shp'))\n",
    "df_ESRI6 = gpd.read_file(os.path.join('..', 'watershed', \"ESRI_ws\",'ESRI_08168770.shp'))\n",
    "df_ESRI7 = gpd.read_file(os.path.join('..', 'watershed', \"ESRI_ws\",'ESRI_08061548.shp'))\n",
    "df_ESRI8 = gpd.read_file(os.path.join('..', 'watershed', \"ESRI_ws\",'ESRI_08098450.shp'))\n",
    "df_ESRI9 = gpd.read_file(os.path.join('..', 'watershed', \"ESRI_ws\",'ESRI_08099382.shp'))\n",
    "df_ESRI10 = gpd.read_file(os.path.join('..', 'watershed', \"ESRI_ws\",'ESRI_08178980.shp'))\n",
    "df_ESRI11 = gpd.read_file(os.path.join('..', 'watershed', \"ESRI_ws\",'ESRI_08181725.shp'))\n",
    "df_ESRI12 = gpd.read_file(os.path.join('..', 'watershed', \"ESRI_ws\",'ESRI_08183978.shp'))"
   ]
  },
  {
   "cell_type": "code",
   "execution_count": 4,
   "metadata": {},
   "outputs": [],
   "source": [
    "sites = ['08098450', '08140860', '08180990', '08128030', '08167200', '08168770', \n",
    "         '08061548', '08098450', '08099382', '08178980', '08181725', '08183978']\n",
    "\n",
    "ESRI_dfs = [df_ESRI1, df_ESRI2, df_ESRI3, df_ESRI4, df_ESRI5, df_ESRI6, df_ESRI7, \n",
    "            df_ESRI8, df_ESRI9, df_ESRI10, df_ESRI11, df_ESRI12]\n",
    "\n",
    "for site in sites:\n",
    "    for esri_df in ESRI_dfs:\n",
    "        esri_df['Area_sq_mi'] = esri_df['AreaSqKm'] / 2.59 # sq km to sq mi\n",
    "        esri_df['Site_ID'] = site\n",
    "        esri_df.to_file(os.path.join(\"..\", \"output\", f'ESRIarea_{site}.shp'))"
   ]
  },
  {
   "cell_type": "code",
   "execution_count": 14,
   "metadata": {},
   "outputs": [
    {
     "name": "stdout",
     "output_type": "stream",
     "text": [
      "..\\output\n"
     ]
    },
    {
     "ename": "AttributeError",
     "evalue": "'str' object has no attribute 'glob'",
     "output_type": "error",
     "traceback": [
      "\u001b[1;31m---------------------------------------------------------------------------\u001b[0m",
      "\u001b[1;31mAttributeError\u001b[0m                            Traceback (most recent call last)",
      "\u001b[1;32m<ipython-input-14-d0b68b19390f>\u001b[0m in \u001b[0;36m<module>\u001b[1;34m\u001b[0m\n\u001b[0;32m      2\u001b[0m \u001b[0mprint\u001b[0m\u001b[1;33m(\u001b[0m\u001b[0mEsri_workspace\u001b[0m\u001b[1;33m)\u001b[0m\u001b[1;33m\u001b[0m\u001b[1;33m\u001b[0m\u001b[0m\n\u001b[0;32m      3\u001b[0m \u001b[1;33m\u001b[0m\u001b[0m\n\u001b[1;32m----> 4\u001b[1;33m \u001b[0mshapefiles\u001b[0m \u001b[1;33m=\u001b[0m \u001b[0mEsri_workspace\u001b[0m\u001b[1;33m.\u001b[0m\u001b[0mglob\u001b[0m\u001b[1;33m(\u001b[0m\u001b[1;34m\"ESRIarea*.shp\"\u001b[0m\u001b[1;33m)\u001b[0m\u001b[1;33m\u001b[0m\u001b[1;33m\u001b[0m\u001b[0m\n\u001b[0m\u001b[0;32m      5\u001b[0m \u001b[1;33m\u001b[0m\u001b[0m\n\u001b[0;32m      6\u001b[0m gdf = pandas.concat([\n",
      "\u001b[1;31mAttributeError\u001b[0m: 'str' object has no attribute 'glob'"
     ]
    }
   ],
   "source": [
    "Esri_workspace = os.path.join('..', 'output')\n",
    "print(Esri_workspace)\n",
    "\n",
    "shapefiles = Esri_workspace.glob(\"ESRIarea*.shp\")\n",
    "                                 \n",
    "gdf = pandas.concat([\n",
    "    geopandas.read_file(shp)\n",
    "    for shp in shapefiles\n",
    "]).pipe(geopandas.GeoDataFrame)\n",
    "                                 \n",
    "gdf.to_file(folder / 'ESRI_all.shp')"
   ]
  },
  {
   "cell_type": "code",
   "execution_count": null,
   "metadata": {},
   "outputs": [],
   "source": [
    "def percent_difference(current, previous):\n",
    "    absval = abs(current - previous)\n",
    "    avg = (current + previous) / 2\n",
    "    try: \n",
    "        return (absval / avg) * 100.0\n",
    "    except ZeroDivisionError:\n",
    "        return 0"
   ]
  },
  {
   "cell_type": "code",
   "execution_count": null,
   "metadata": {},
   "outputs": [],
   "source": [
    "percent_large = percent_difference(current=df_wslarge['Area_sq_mi'].astype(int), previous=ESRI_large[\"Area_sq_mi\"].astype(int))\n",
    "print(\"Percent difference of medium watersheds is \", percent_large)"
   ]
  },
  {
   "cell_type": "code",
   "execution_count": null,
   "metadata": {},
   "outputs": [],
   "source": [
    "percent_med = percent_difference(current=df_wsmed['Area_sq_mi'].astype(int), previous=ESRI_med[\"Area_sq_mi\"].astype(int))\n",
    "print(\"Percent difference of medium watersheds is \", percent_med)"
   ]
  },
  {
   "cell_type": "code",
   "execution_count": null,
   "metadata": {
    "scrolled": true
   },
   "outputs": [],
   "source": [
    "percent_small = percent_difference(current=df_wssmall['Area_sq_mi'], previous=ESRI_small[\"Area_sq_mi\"])\n",
    "print(\"Percent difference of medium watersheds is \", percent_small)"
   ]
  },
  {
   "cell_type": "code",
   "execution_count": null,
   "metadata": {},
   "outputs": [],
   "source": [
    "df_main = pd.concat([df_wslarge, ESRI_large, df_wsmed, ESRI_med, df_wssmall, ESRI_small], ignore_index=True, sort=False)\n",
    "gdf_main = df_main[['geometry', 'Site_Name', 'Site_ID', 'Area_sq_mi', 'Descriptio', 'DataResolu']]\n",
    "df_main = df_main[['Site_Name', 'Site_ID', 'Area_sq_mi', 'Descriptio', 'DataResolu']]\n",
    "\n",
    "gdf_main.to_csv(os.path.join('..', 'output', 'Watersheds.shp'))\n",
    "df_main.to_csv(os.path.join('..', 'output', 'WatershedDF.csv'))"
   ]
  },
  {
   "cell_type": "code",
   "execution_count": null,
   "metadata": {},
   "outputs": [],
   "source": [
    "df_main['PercDiff'] = df_main['PercDiff'].append([44.904617, 44.904617, 0.445434, 0.445434, 1.663661, 1.663661])"
   ]
  },
  {
   "cell_type": "code",
   "execution_count": null,
   "metadata": {},
   "outputs": [],
   "source": []
  }
 ],
 "metadata": {
  "kernelspec": {
   "display_name": "Python 3",
   "language": "python",
   "name": "python3"
  },
  "language_info": {
   "codemirror_mode": {
    "name": "ipython",
    "version": 3
   },
   "file_extension": ".py",
   "mimetype": "text/x-python",
   "name": "python",
   "nbconvert_exporter": "python",
   "pygments_lexer": "ipython3",
   "version": "3.6.7"
  }
 },
 "nbformat": 4,
 "nbformat_minor": 2
}
